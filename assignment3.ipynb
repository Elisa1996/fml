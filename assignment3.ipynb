{
 "cells": [
  {
   "cell_type": "markdown",
   "metadata": {},
   "source": [
    "# Assignment 3 - Linear regression"
   ]
  },
  {
   "cell_type": "markdown",
   "metadata": {},
   "source": [
    "### The working of linear regression"
   ]
  },
  {
   "cell_type": "markdown",
   "metadata": {},
   "source": [
    "Linear regression makes you able to predict a variable with the help of other variables"
   ]
  },
  {
   "cell_type": "markdown",
   "metadata": {},
   "source": [
    "### Data preparings"
   ]
  },
  {
   "cell_type": "code",
   "execution_count": 34,
   "metadata": {},
   "outputs": [
    {
     "data": {
      "text/html": [
       "<div>\n",
       "<style scoped>\n",
       "    .dataframe tbody tr th:only-of-type {\n",
       "        vertical-align: middle;\n",
       "    }\n",
       "\n",
       "    .dataframe tbody tr th {\n",
       "        vertical-align: top;\n",
       "    }\n",
       "\n",
       "    .dataframe thead th {\n",
       "        text-align: right;\n",
       "    }\n",
       "</style>\n",
       "<table border=\"1\" class=\"dataframe\">\n",
       "  <thead>\n",
       "    <tr style=\"text-align: right;\">\n",
       "      <th></th>\n",
       "      <th>id</th>\n",
       "      <th>url</th>\n",
       "      <th>n_tokens_title</th>\n",
       "      <th>n_tokens_content</th>\n",
       "      <th>num_imgs</th>\n",
       "      <th>num_videos</th>\n",
       "      <th>average_token_length</th>\n",
       "      <th>data_channel_is_lifestyle</th>\n",
       "      <th>data_channel_is_entertainment</th>\n",
       "      <th>data_channel_is_bus</th>\n",
       "      <th>...</th>\n",
       "      <th>weekday_is_friday</th>\n",
       "      <th>weekday_is_saturday</th>\n",
       "      <th>weekday_is_sunday</th>\n",
       "      <th>is_weekend</th>\n",
       "      <th>global_subjectivity</th>\n",
       "      <th>global_sentiment_polarity</th>\n",
       "      <th>title_subjectivity</th>\n",
       "      <th>title_sentiment_polarity</th>\n",
       "      <th>shares</th>\n",
       "      <th>shares_log</th>\n",
       "    </tr>\n",
       "  </thead>\n",
       "  <tbody>\n",
       "    <tr>\n",
       "      <td>15508</td>\n",
       "      <td>15509</td>\n",
       "      <td>http://mashable.com/2013/07/03/low-cost-iphone/</td>\n",
       "      <td>12</td>\n",
       "      <td>688</td>\n",
       "      <td>15</td>\n",
       "      <td>1</td>\n",
       "      <td>4.893895</td>\n",
       "      <td>0</td>\n",
       "      <td>0</td>\n",
       "      <td>0</td>\n",
       "      <td>...</td>\n",
       "      <td>0</td>\n",
       "      <td>0</td>\n",
       "      <td>0</td>\n",
       "      <td>0</td>\n",
       "      <td>0.503345</td>\n",
       "      <td>0.186037</td>\n",
       "      <td>0.100000</td>\n",
       "      <td>-0.300000</td>\n",
       "      <td>843300</td>\n",
       "      <td>5.925982</td>\n",
       "    </tr>\n",
       "    <tr>\n",
       "      <td>16736</td>\n",
       "      <td>16737</td>\n",
       "      <td>http://mashable.com/2013/04/15/dove-ad-beauty-...</td>\n",
       "      <td>11</td>\n",
       "      <td>893</td>\n",
       "      <td>0</td>\n",
       "      <td>11</td>\n",
       "      <td>4.586786</td>\n",
       "      <td>0</td>\n",
       "      <td>0</td>\n",
       "      <td>1</td>\n",
       "      <td>...</td>\n",
       "      <td>0</td>\n",
       "      <td>0</td>\n",
       "      <td>0</td>\n",
       "      <td>0</td>\n",
       "      <td>0.450678</td>\n",
       "      <td>0.100533</td>\n",
       "      <td>0.000000</td>\n",
       "      <td>0.000000</td>\n",
       "      <td>690400</td>\n",
       "      <td>5.839101</td>\n",
       "    </tr>\n",
       "    <tr>\n",
       "      <td>22572</td>\n",
       "      <td>22573</td>\n",
       "      <td>http://mashable.com/2014/04/09/first-100-gilt-...</td>\n",
       "      <td>13</td>\n",
       "      <td>2591</td>\n",
       "      <td>1</td>\n",
       "      <td>1</td>\n",
       "      <td>4.588962</td>\n",
       "      <td>0</td>\n",
       "      <td>0</td>\n",
       "      <td>0</td>\n",
       "      <td>...</td>\n",
       "      <td>0</td>\n",
       "      <td>0</td>\n",
       "      <td>0</td>\n",
       "      <td>0</td>\n",
       "      <td>0.415273</td>\n",
       "      <td>0.075724</td>\n",
       "      <td>0.535714</td>\n",
       "      <td>0.285714</td>\n",
       "      <td>663600</td>\n",
       "      <td>5.821906</td>\n",
       "    </tr>\n",
       "    <tr>\n",
       "      <td>2022</td>\n",
       "      <td>2023</td>\n",
       "      <td>http://mashable.com/2013/11/18/kanye-west-harv...</td>\n",
       "      <td>9</td>\n",
       "      <td>134</td>\n",
       "      <td>0</td>\n",
       "      <td>2</td>\n",
       "      <td>4.082090</td>\n",
       "      <td>0</td>\n",
       "      <td>0</td>\n",
       "      <td>1</td>\n",
       "      <td>...</td>\n",
       "      <td>0</td>\n",
       "      <td>0</td>\n",
       "      <td>0</td>\n",
       "      <td>0</td>\n",
       "      <td>0.556854</td>\n",
       "      <td>0.004040</td>\n",
       "      <td>0.000000</td>\n",
       "      <td>0.000000</td>\n",
       "      <td>652900</td>\n",
       "      <td>5.814847</td>\n",
       "    </tr>\n",
       "    <tr>\n",
       "      <td>8128</td>\n",
       "      <td>8129</td>\n",
       "      <td>http://mashable.com/2013/03/02/wealth-inequality/</td>\n",
       "      <td>11</td>\n",
       "      <td>382</td>\n",
       "      <td>11</td>\n",
       "      <td>1</td>\n",
       "      <td>4.777487</td>\n",
       "      <td>0</td>\n",
       "      <td>0</td>\n",
       "      <td>0</td>\n",
       "      <td>...</td>\n",
       "      <td>0</td>\n",
       "      <td>1</td>\n",
       "      <td>0</td>\n",
       "      <td>1</td>\n",
       "      <td>0.340229</td>\n",
       "      <td>0.125005</td>\n",
       "      <td>0.000000</td>\n",
       "      <td>0.000000</td>\n",
       "      <td>617900</td>\n",
       "      <td>5.790918</td>\n",
       "    </tr>\n",
       "  </tbody>\n",
       "</table>\n",
       "<p>5 rows × 27 columns</p>\n",
       "</div>"
      ],
      "text/plain": [
       "          id                                                url  \\\n",
       "15508  15509    http://mashable.com/2013/07/03/low-cost-iphone/   \n",
       "16736  16737  http://mashable.com/2013/04/15/dove-ad-beauty-...   \n",
       "22572  22573  http://mashable.com/2014/04/09/first-100-gilt-...   \n",
       "2022    2023  http://mashable.com/2013/11/18/kanye-west-harv...   \n",
       "8128    8129  http://mashable.com/2013/03/02/wealth-inequality/   \n",
       "\n",
       "       n_tokens_title  n_tokens_content  num_imgs  num_videos  \\\n",
       "15508              12               688        15           1   \n",
       "16736              11               893         0          11   \n",
       "22572              13              2591         1           1   \n",
       "2022                9               134         0           2   \n",
       "8128               11               382        11           1   \n",
       "\n",
       "       average_token_length  data_channel_is_lifestyle  \\\n",
       "15508              4.893895                          0   \n",
       "16736              4.586786                          0   \n",
       "22572              4.588962                          0   \n",
       "2022               4.082090                          0   \n",
       "8128               4.777487                          0   \n",
       "\n",
       "       data_channel_is_entertainment  data_channel_is_bus  ...  \\\n",
       "15508                              0                    0  ...   \n",
       "16736                              0                    1  ...   \n",
       "22572                              0                    0  ...   \n",
       "2022                               0                    1  ...   \n",
       "8128                               0                    0  ...   \n",
       "\n",
       "       weekday_is_friday  weekday_is_saturday  weekday_is_sunday  is_weekend  \\\n",
       "15508                  0                    0                  0           0   \n",
       "16736                  0                    0                  0           0   \n",
       "22572                  0                    0                  0           0   \n",
       "2022                   0                    0                  0           0   \n",
       "8128                   0                    1                  0           1   \n",
       "\n",
       "       global_subjectivity  global_sentiment_polarity  title_subjectivity  \\\n",
       "15508             0.503345                   0.186037            0.100000   \n",
       "16736             0.450678                   0.100533            0.000000   \n",
       "22572             0.415273                   0.075724            0.535714   \n",
       "2022              0.556854                   0.004040            0.000000   \n",
       "8128              0.340229                   0.125005            0.000000   \n",
       "\n",
       "       title_sentiment_polarity  shares  shares_log  \n",
       "15508                 -0.300000  843300    5.925982  \n",
       "16736                  0.000000  690400    5.839101  \n",
       "22572                  0.285714  663600    5.821906  \n",
       "2022                   0.000000  652900    5.814847  \n",
       "8128                   0.000000  617900    5.790918  \n",
       "\n",
       "[5 rows x 27 columns]"
      ]
     },
     "execution_count": 34,
     "metadata": {},
     "output_type": "execute_result"
    }
   ],
   "source": [
    "import seaborn as sns\n",
    "import pandas as pd\n",
    "import matplotlib.pyplot as plt\n",
    "import math\n",
    "from sklearn.linear_model import LinearRegression\n",
    "from sklearn.model_selection import train_test_split\n",
    "from sklearn.metrics import mean_squared_error\n",
    "from sklearn.metrics import r2_score\n",
    "\n",
    "df = pd.read_csv('data Mashable.csv')\n",
    "df = df.sort_values(by='shares', ascending=False) # sort the data on highest shares\n",
    "df.head()"
   ]
  },
  {
   "cell_type": "code",
   "execution_count": 35,
   "metadata": {},
   "outputs": [
    {
     "data": {
      "text/html": [
       "<div>\n",
       "<style scoped>\n",
       "    .dataframe tbody tr th:only-of-type {\n",
       "        vertical-align: middle;\n",
       "    }\n",
       "\n",
       "    .dataframe tbody tr th {\n",
       "        vertical-align: top;\n",
       "    }\n",
       "\n",
       "    .dataframe thead th {\n",
       "        text-align: right;\n",
       "    }\n",
       "</style>\n",
       "<table border=\"1\" class=\"dataframe\">\n",
       "  <thead>\n",
       "    <tr style=\"text-align: right;\">\n",
       "      <th></th>\n",
       "      <th>n_tokens_title</th>\n",
       "      <th>num_imgs</th>\n",
       "      <th>is_weekend</th>\n",
       "      <th>n_tokens_content</th>\n",
       "      <th>num_videos</th>\n",
       "    </tr>\n",
       "  </thead>\n",
       "  <tbody>\n",
       "    <tr>\n",
       "      <td>15508</td>\n",
       "      <td>12</td>\n",
       "      <td>15</td>\n",
       "      <td>0</td>\n",
       "      <td>688</td>\n",
       "      <td>1</td>\n",
       "    </tr>\n",
       "    <tr>\n",
       "      <td>16736</td>\n",
       "      <td>11</td>\n",
       "      <td>0</td>\n",
       "      <td>0</td>\n",
       "      <td>893</td>\n",
       "      <td>11</td>\n",
       "    </tr>\n",
       "    <tr>\n",
       "      <td>22572</td>\n",
       "      <td>13</td>\n",
       "      <td>1</td>\n",
       "      <td>0</td>\n",
       "      <td>2591</td>\n",
       "      <td>1</td>\n",
       "    </tr>\n",
       "    <tr>\n",
       "      <td>2022</td>\n",
       "      <td>9</td>\n",
       "      <td>0</td>\n",
       "      <td>0</td>\n",
       "      <td>134</td>\n",
       "      <td>2</td>\n",
       "    </tr>\n",
       "    <tr>\n",
       "      <td>8128</td>\n",
       "      <td>11</td>\n",
       "      <td>11</td>\n",
       "      <td>1</td>\n",
       "      <td>382</td>\n",
       "      <td>1</td>\n",
       "    </tr>\n",
       "    <tr>\n",
       "      <td>...</td>\n",
       "      <td>...</td>\n",
       "      <td>...</td>\n",
       "      <td>...</td>\n",
       "      <td>...</td>\n",
       "      <td>...</td>\n",
       "    </tr>\n",
       "    <tr>\n",
       "      <td>11058</td>\n",
       "      <td>9</td>\n",
       "      <td>1</td>\n",
       "      <td>0</td>\n",
       "      <td>650</td>\n",
       "      <td>0</td>\n",
       "    </tr>\n",
       "    <tr>\n",
       "      <td>14492</td>\n",
       "      <td>7</td>\n",
       "      <td>1</td>\n",
       "      <td>0</td>\n",
       "      <td>147</td>\n",
       "      <td>0</td>\n",
       "    </tr>\n",
       "    <tr>\n",
       "      <td>19729</td>\n",
       "      <td>9</td>\n",
       "      <td>0</td>\n",
       "      <td>0</td>\n",
       "      <td>106</td>\n",
       "      <td>0</td>\n",
       "    </tr>\n",
       "    <tr>\n",
       "      <td>20546</td>\n",
       "      <td>5</td>\n",
       "      <td>0</td>\n",
       "      <td>0</td>\n",
       "      <td>0</td>\n",
       "      <td>0</td>\n",
       "    </tr>\n",
       "    <tr>\n",
       "      <td>15708</td>\n",
       "      <td>11</td>\n",
       "      <td>0</td>\n",
       "      <td>0</td>\n",
       "      <td>944</td>\n",
       "      <td>23</td>\n",
       "    </tr>\n",
       "  </tbody>\n",
       "</table>\n",
       "<p>24999 rows × 5 columns</p>\n",
       "</div>"
      ],
      "text/plain": [
       "       n_tokens_title  num_imgs  is_weekend  n_tokens_content  num_videos\n",
       "15508              12        15           0               688           1\n",
       "16736              11         0           0               893          11\n",
       "22572              13         1           0              2591           1\n",
       "2022                9         0           0               134           2\n",
       "8128               11        11           1               382           1\n",
       "...               ...       ...         ...               ...         ...\n",
       "11058               9         1           0               650           0\n",
       "14492               7         1           0               147           0\n",
       "19729               9         0           0               106           0\n",
       "20546               5         0           0                 0           0\n",
       "15708              11         0           0               944          23\n",
       "\n",
       "[24999 rows x 5 columns]"
      ]
     },
     "execution_count": 35,
     "metadata": {},
     "output_type": "execute_result"
    }
   ],
   "source": [
    "df_subset = df[[\"n_tokens_title\", \"num_imgs\", \"is_weekend\", \"n_tokens_content\", \"num_videos\"]] # choosing variables\n",
    "df_subset # showing the subset"
   ]
  },
  {
   "cell_type": "markdown",
   "metadata": {},
   "source": [
    "#### How I selected the variables:"
   ]
  },
  {
   "cell_type": "markdown",
   "metadata": {},
   "source": [
    "I chose the variables to see which effect they would have on the amount of shares, amount of tokens in the title, number of images, number of videos, amount of words in the text and if it's the weekend or not."
   ]
  },
  {
   "cell_type": "markdown",
   "metadata": {},
   "source": [
    "#### Plots of the relation of your selected variables with the target"
   ]
  },
  {
   "cell_type": "code",
   "execution_count": 60,
   "metadata": {},
   "outputs": [
    {
     "data": {
      "image/png": "[encoded data removed]",
      "text/plain": [
       "<Figure size 360x360 with 1 Axes>"
      ]
     },
     "metadata": {
      "needs_background": "light"
     },
     "output_type": "display_data"
    }
   ],
   "source": [
    "sns.lmplot(x='n_tokens_title', y='shares', fit_reg=False, data=df) #fit_reg=False leaves out the regression line; see below\n",
    "plt.xlabel('Length of the title')\n",
    "plt.ylabel('Shares')\n",
    "plt.title('Effect of the title length on shares')\n",
    "plt.show()"
   ]
  },
  {
   "cell_type": "markdown",
   "metadata": {},
   "source": [
    "You can see articles with an average title length are shared more often"
   ]
  },
  {
   "cell_type": "code",
   "execution_count": 58,
   "metadata": {},
   "outputs": [
    {
     "data": {
      "image/png": "[encoded data removed]",
      "text/plain": [
       "<Figure size 360x360 with 1 Axes>"
      ]
     },
     "metadata": {
      "needs_background": "light"
     },
     "output_type": "display_data"
    }
   ],
   "source": [
    "sns.lmplot(x='n_tokens_content', y='shares', fit_reg=False, data=df) #fit_reg=False leaves out the regression line; see below\n",
    "plt.xlabel('Length of article')\n",
    "plt.ylabel('Shares')\n",
    "plt.title('Length of the article and shares')\n",
    "plt.show()"
   ]
  },
  {
   "cell_type": "markdown",
   "metadata": {},
   "source": [
    "You see that shorter articles are shared more often, this could also be caused by the fact that there are more shorter articles. "
   ]
  },
  {
   "cell_type": "code",
   "execution_count": 38,
   "metadata": {},
   "outputs": [
    {
     "data": {
      "text/html": [
       "<div>\n",
       "<style scoped>\n",
       "    .dataframe tbody tr th:only-of-type {\n",
       "        vertical-align: middle;\n",
       "    }\n",
       "\n",
       "    .dataframe tbody tr th {\n",
       "        vertical-align: top;\n",
       "    }\n",
       "\n",
       "    .dataframe thead th {\n",
       "        text-align: right;\n",
       "    }\n",
       "</style>\n",
       "<table border=\"1\" class=\"dataframe\">\n",
       "  <thead>\n",
       "    <tr style=\"text-align: right;\">\n",
       "      <th></th>\n",
       "      <th>n_tokens_title</th>\n",
       "      <th>num_imgs</th>\n",
       "      <th>is_weekend</th>\n",
       "      <th>n_tokens_content</th>\n",
       "      <th>num_videos</th>\n",
       "    </tr>\n",
       "    <tr>\n",
       "      <th>url</th>\n",
       "      <th></th>\n",
       "      <th></th>\n",
       "      <th></th>\n",
       "      <th></th>\n",
       "      <th></th>\n",
       "    </tr>\n",
       "  </thead>\n",
       "  <tbody>\n",
       "    <tr>\n",
       "      <td>http://mashable.com/2013/07/03/low-cost-iphone/</td>\n",
       "      <td>12</td>\n",
       "      <td>15</td>\n",
       "      <td>0</td>\n",
       "      <td>688</td>\n",
       "      <td>1</td>\n",
       "    </tr>\n",
       "    <tr>\n",
       "      <td>http://mashable.com/2013/04/15/dove-ad-beauty-sketches/</td>\n",
       "      <td>11</td>\n",
       "      <td>0</td>\n",
       "      <td>0</td>\n",
       "      <td>893</td>\n",
       "      <td>11</td>\n",
       "    </tr>\n",
       "    <tr>\n",
       "      <td>http://mashable.com/2014/04/09/first-100-gilt-soundcloud-stitchfix/</td>\n",
       "      <td>13</td>\n",
       "      <td>1</td>\n",
       "      <td>0</td>\n",
       "      <td>2591</td>\n",
       "      <td>1</td>\n",
       "    </tr>\n",
       "    <tr>\n",
       "      <td>http://mashable.com/2013/11/18/kanye-west-harvard-lecture/</td>\n",
       "      <td>9</td>\n",
       "      <td>0</td>\n",
       "      <td>0</td>\n",
       "      <td>134</td>\n",
       "      <td>2</td>\n",
       "    </tr>\n",
       "    <tr>\n",
       "      <td>http://mashable.com/2013/03/02/wealth-inequality/</td>\n",
       "      <td>11</td>\n",
       "      <td>11</td>\n",
       "      <td>1</td>\n",
       "      <td>382</td>\n",
       "      <td>1</td>\n",
       "    </tr>\n",
       "  </tbody>\n",
       "</table>\n",
       "</div>"
      ],
      "text/plain": [
       "                                                    n_tokens_title  num_imgs  \\\n",
       "url                                                                            \n",
       "http://mashable.com/2013/07/03/low-cost-iphone/                 12        15   \n",
       "http://mashable.com/2013/04/15/dove-ad-beauty-s...              11         0   \n",
       "http://mashable.com/2014/04/09/first-100-gilt-s...              13         1   \n",
       "http://mashable.com/2013/11/18/kanye-west-harva...               9         0   \n",
       "http://mashable.com/2013/03/02/wealth-inequality/               11        11   \n",
       "\n",
       "                                                    is_weekend  \\\n",
       "url                                                              \n",
       "http://mashable.com/2013/07/03/low-cost-iphone/              0   \n",
       "http://mashable.com/2013/04/15/dove-ad-beauty-s...           0   \n",
       "http://mashable.com/2014/04/09/first-100-gilt-s...           0   \n",
       "http://mashable.com/2013/11/18/kanye-west-harva...           0   \n",
       "http://mashable.com/2013/03/02/wealth-inequality/            1   \n",
       "\n",
       "                                                    n_tokens_content  \\\n",
       "url                                                                    \n",
       "http://mashable.com/2013/07/03/low-cost-iphone/                  688   \n",
       "http://mashable.com/2013/04/15/dove-ad-beauty-s...               893   \n",
       "http://mashable.com/2014/04/09/first-100-gilt-s...              2591   \n",
       "http://mashable.com/2013/11/18/kanye-west-harva...               134   \n",
       "http://mashable.com/2013/03/02/wealth-inequality/                382   \n",
       "\n",
       "                                                    num_videos  \n",
       "url                                                             \n",
       "http://mashable.com/2013/07/03/low-cost-iphone/              1  \n",
       "http://mashable.com/2013/04/15/dove-ad-beauty-s...          11  \n",
       "http://mashable.com/2014/04/09/first-100-gilt-s...           1  \n",
       "http://mashable.com/2013/11/18/kanye-west-harva...           2  \n",
       "http://mashable.com/2013/03/02/wealth-inequality/            1  "
      ]
     },
     "execution_count": 38,
     "metadata": {},
     "output_type": "execute_result"
    }
   ],
   "source": [
    "y = df['shares_log'] # Y is shares\n",
    "X = df_subset # X is the other variables\n",
    "X.index = df['url'] # shows the url of the text\n",
    "X.head() # Shows the X"
   ]
  },
  {
   "cell_type": "markdown",
   "metadata": {},
   "source": [
    "### Training"
   ]
  },
  {
   "cell_type": "code",
   "execution_count": 39,
   "metadata": {},
   "outputs": [
    {
     "data": {
      "text/html": [
       "<div>\n",
       "<style scoped>\n",
       "    .dataframe tbody tr th:only-of-type {\n",
       "        vertical-align: middle;\n",
       "    }\n",
       "\n",
       "    .dataframe tbody tr th {\n",
       "        vertical-align: top;\n",
       "    }\n",
       "\n",
       "    .dataframe thead th {\n",
       "        text-align: right;\n",
       "    }\n",
       "</style>\n",
       "<table border=\"1\" class=\"dataframe\">\n",
       "  <thead>\n",
       "    <tr style=\"text-align: right;\">\n",
       "      <th></th>\n",
       "      <th>n_tokens_title</th>\n",
       "      <th>num_imgs</th>\n",
       "      <th>is_weekend</th>\n",
       "      <th>n_tokens_content</th>\n",
       "      <th>num_videos</th>\n",
       "    </tr>\n",
       "    <tr>\n",
       "      <th>url</th>\n",
       "      <th></th>\n",
       "      <th></th>\n",
       "      <th></th>\n",
       "      <th></th>\n",
       "      <th></th>\n",
       "    </tr>\n",
       "  </thead>\n",
       "  <tbody>\n",
       "    <tr>\n",
       "      <td>http://mashable.com/2013/10/17/randi-zuckerberg-book-dot/</td>\n",
       "      <td>10</td>\n",
       "      <td>1</td>\n",
       "      <td>0</td>\n",
       "      <td>323</td>\n",
       "      <td>0</td>\n",
       "    </tr>\n",
       "    <tr>\n",
       "      <td>http://mashable.com/2014/07/21/un-russia-malaysia-plane-crash/</td>\n",
       "      <td>9</td>\n",
       "      <td>3</td>\n",
       "      <td>0</td>\n",
       "      <td>832</td>\n",
       "      <td>0</td>\n",
       "    </tr>\n",
       "    <tr>\n",
       "      <td>http://mashable.com/2014/03/20/syria-goes-almost-completely-offline-again/</td>\n",
       "      <td>10</td>\n",
       "      <td>2</td>\n",
       "      <td>0</td>\n",
       "      <td>611</td>\n",
       "      <td>1</td>\n",
       "    </tr>\n",
       "    <tr>\n",
       "      <td>http://mashable.com/2013/02/21/facebook-voice-messages/</td>\n",
       "      <td>9</td>\n",
       "      <td>6</td>\n",
       "      <td>0</td>\n",
       "      <td>312</td>\n",
       "      <td>0</td>\n",
       "    </tr>\n",
       "    <tr>\n",
       "      <td>http://mashable.com/2013/10/19/apple-macbook-air-recall/</td>\n",
       "      <td>10</td>\n",
       "      <td>70</td>\n",
       "      <td>1</td>\n",
       "      <td>564</td>\n",
       "      <td>1</td>\n",
       "    </tr>\n",
       "  </tbody>\n",
       "</table>\n",
       "</div>"
      ],
      "text/plain": [
       "                                                    n_tokens_title  num_imgs  \\\n",
       "url                                                                            \n",
       "http://mashable.com/2013/10/17/randi-zuckerberg...              10         1   \n",
       "http://mashable.com/2014/07/21/un-russia-malays...               9         3   \n",
       "http://mashable.com/2014/03/20/syria-goes-almos...              10         2   \n",
       "http://mashable.com/2013/02/21/facebook-voice-m...               9         6   \n",
       "http://mashable.com/2013/10/19/apple-macbook-ai...              10        70   \n",
       "\n",
       "                                                    is_weekend  \\\n",
       "url                                                              \n",
       "http://mashable.com/2013/10/17/randi-zuckerberg...           0   \n",
       "http://mashable.com/2014/07/21/un-russia-malays...           0   \n",
       "http://mashable.com/2014/03/20/syria-goes-almos...           0   \n",
       "http://mashable.com/2013/02/21/facebook-voice-m...           0   \n",
       "http://mashable.com/2013/10/19/apple-macbook-ai...           1   \n",
       "\n",
       "                                                    n_tokens_content  \\\n",
       "url                                                                    \n",
       "http://mashable.com/2013/10/17/randi-zuckerberg...               323   \n",
       "http://mashable.com/2014/07/21/un-russia-malays...               832   \n",
       "http://mashable.com/2014/03/20/syria-goes-almos...               611   \n",
       "http://mashable.com/2013/02/21/facebook-voice-m...               312   \n",
       "http://mashable.com/2013/10/19/apple-macbook-ai...               564   \n",
       "\n",
       "                                                    num_videos  \n",
       "url                                                             \n",
       "http://mashable.com/2013/10/17/randi-zuckerberg...           0  \n",
       "http://mashable.com/2014/07/21/un-russia-malays...           0  \n",
       "http://mashable.com/2014/03/20/syria-goes-almos...           1  \n",
       "http://mashable.com/2013/02/21/facebook-voice-m...           0  \n",
       "http://mashable.com/2013/10/19/apple-macbook-ai...           1  "
      ]
     },
     "execution_count": 39,
     "metadata": {},
     "output_type": "execute_result"
    }
   ],
   "source": [
    "X_train, X_test, y_train, y_test = train_test_split(X, y, test_size=0.3, random_state=1) # split the data, store it into different variables\n",
    "X_train.head() # the train data"
   ]
  },
  {
   "cell_type": "code",
   "execution_count": 40,
   "metadata": {},
   "outputs": [],
   "source": [
    "lm = LinearRegression() # create the model\n",
    "model = lm.fit(X_train, y_train) # train the model"
   ]
  },
  {
   "cell_type": "code",
   "execution_count": 41,
   "metadata": {},
   "outputs": [
    {
     "data": {
      "text/html": [
       "<div>\n",
       "<style scoped>\n",
       "    .dataframe tbody tr th:only-of-type {\n",
       "        vertical-align: middle;\n",
       "    }\n",
       "\n",
       "    .dataframe tbody tr th {\n",
       "        vertical-align: top;\n",
       "    }\n",
       "\n",
       "    .dataframe thead th {\n",
       "        text-align: right;\n",
       "    }\n",
       "</style>\n",
       "<table border=\"1\" class=\"dataframe\">\n",
       "  <thead>\n",
       "    <tr style=\"text-align: right;\">\n",
       "      <th></th>\n",
       "      <th>0</th>\n",
       "    </tr>\n",
       "  </thead>\n",
       "  <tbody>\n",
       "    <tr>\n",
       "      <td>-0.003736</td>\n",
       "      <td>n_tokens_title</td>\n",
       "    </tr>\n",
       "    <tr>\n",
       "      <td>0.003655</td>\n",
       "      <td>num_imgs</td>\n",
       "    </tr>\n",
       "    <tr>\n",
       "      <td>0.126871</td>\n",
       "      <td>is_weekend</td>\n",
       "    </tr>\n",
       "    <tr>\n",
       "      <td>-0.000004</td>\n",
       "      <td>n_tokens_content</td>\n",
       "    </tr>\n",
       "    <tr>\n",
       "      <td>0.003796</td>\n",
       "      <td>num_videos</td>\n",
       "    </tr>\n",
       "  </tbody>\n",
       "</table>\n",
       "</div>"
      ],
      "text/plain": [
       "                          0\n",
       "-0.003736    n_tokens_title\n",
       " 0.003655          num_imgs\n",
       " 0.126871        is_weekend\n",
       "-0.000004  n_tokens_content\n",
       " 0.003796        num_videos"
      ]
     },
     "execution_count": 41,
     "metadata": {},
     "output_type": "execute_result"
    }
   ],
   "source": [
    "coef = pd.DataFrame(X.columns.values, lm.coef_) # this creates a df with a column with the column names, and the coefficients of the model\n",
    "coef # show the coef"
   ]
  },
  {
   "cell_type": "code",
   "execution_count": 42,
   "metadata": {},
   "outputs": [
    {
     "data": {
      "text/plain": [
       "0.02039366793155839"
      ]
     },
     "execution_count": 42,
     "metadata": {},
     "output_type": "execute_result"
    }
   ],
   "source": [
    "y_test_p = lm.predict(X_test) # generate predictions for the test data\n",
    "r2_score(y_test, y_test_p) # R2 prediction"
   ]
  },
  {
   "cell_type": "markdown",
   "metadata": {},
   "source": [
    "#### Predictive power of the model (R2, RMSE)"
   ]
  },
  {
   "cell_type": "code",
   "execution_count": 43,
   "metadata": {},
   "outputs": [
    {
     "data": {
      "text/plain": [
       "0.40896948058228516"
      ]
     },
     "execution_count": 43,
     "metadata": {},
     "output_type": "execute_result"
    }
   ],
   "source": [
    "math.sqrt(mean_squared_error(y_test, y_test_p)) # RMSE"
   ]
  },
  {
   "cell_type": "code",
   "execution_count": 44,
   "metadata": {},
   "outputs": [
    {
     "data": {
      "image/png": "[encoded data removed]",
      "text/plain": [
       "<Figure size 432x288 with 1 Axes>"
      ]
     },
     "metadata": {
      "needs_background": "light"
     },
     "output_type": "display_data"
    }
   ],
   "source": [
    "sns.scatterplot(y_test, y_test_p)\n",
    "plt.xlabel('Actual rating') # x label\n",
    "plt.ylabel('Predicted rating') # y label\n",
    "plt.xlim([3,4]) # forcing the x- and y-axis to be the same length, so that we can compare \n",
    "plt.ylim([3,4])\n",
    "plt.plot([3,4], [3, 4], color='red', lw=3) # plot a diagonal length\n",
    "plt.show()"
   ]
  },
  {
   "cell_type": "markdown",
   "metadata": {},
   "source": [
    "#### Equation of the model"
   ]
  },
  {
   "cell_type": "code",
   "execution_count": 45,
   "metadata": {},
   "outputs": [
    {
     "name": "stdout",
     "output_type": "stream",
     "text": [
      "The regression line is equal to y = 3.25 + -0.00X\n"
     ]
    }
   ],
   "source": [
    "lm.fit(X, y) #this \"fits\" the model\n",
    "\n",
    "b0 = lm.intercept_ #gets the intercept\n",
    "b1 = lm.coef_[0] #lm.coef_ gets a list of coefficients (excluding the intercept). [0] gets the actual number from the list\n",
    "\n",
    "print(f\"The regression line is equal to y = {b0:.2f} + {b1:.2f}X\") #.0f formats to 2 decimals."
   ]
  },
  {
   "cell_type": "code",
   "execution_count": null,
   "metadata": {},
   "outputs": [],
   "source": []
  }
 ],
 "metadata": {
  "kernelspec": {
   "display_name": "Python 3",
   "language": "python",
   "name": "python3"
  },
  "language_info": {
   "codemirror_mode": {
    "name": "ipython",
    "version": 3
   },
   "file_extension": ".py",
   "mimetype": "text/x-python",
   "name": "python",
   "nbconvert_exporter": "python",
   "pygments_lexer": "ipython3",
   "version": "3.7.3"
  }
 },
 "nbformat": 4,
 "nbformat_minor": 2
}
